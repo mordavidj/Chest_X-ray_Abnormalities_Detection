{
 "cells": [
  {
   "cell_type": "markdown",
   "id": "extraordinary-austin",
   "metadata": {},
   "source": [
    "# Data Prep"
   ]
  },
  {
   "cell_type": "code",
   "execution_count": null,
   "id": "imposed-characteristic",
   "metadata": {},
   "outputs": [],
   "source": [
    "import numpy as np\n",
    "import pandas as pd\n",
    "import os\n",
    "import pydicom\n",
    "pd.set_option('display.max_colwidth',None)"
   ]
  },
  {
   "cell_type": "code",
   "execution_count": null,
   "id": "multiple-defendant",
   "metadata": {},
   "outputs": [],
   "source": [
    "img_train_path = './data/train/'\n",
    "img_test_path = './data/test/'\n",
    "train_csv_path = './data/train.csv'\n",
    "new_csv_path = './data/new_train.csv'"
   ]
  },
  {
   "cell_type": "code",
   "execution_count": null,
   "id": "endless-venezuela",
   "metadata": {},
   "outputs": [],
   "source": [
    "train_df = pd.read_csv(train_csv_path)\n",
    "train_df.head()"
   ]
  },
  {
   "cell_type": "markdown",
   "id": "sweet-participation",
   "metadata": {},
   "source": [
    "# Only 14 Class"
   ]
  },
  {
   "cell_type": "code",
   "execution_count": null,
   "id": "compact-delta",
   "metadata": {},
   "outputs": [],
   "source": [
    "train_df = train_df[train_df.class_id!=14].reset_index(drop = True)"
   ]
  },
  {
   "cell_type": "code",
   "execution_count": null,
   "id": "round-drive",
   "metadata": {},
   "outputs": [],
   "source": [
    "train_df['image_path'] = img_train_path+train_df.image_id+('.dicom')\n",
    "train_df.head()"
   ]
  },
  {
   "cell_type": "code",
   "execution_count": null,
   "id": "proof-apparatus",
   "metadata": {},
   "outputs": [],
   "source": [
    "train_df['width'] = 0\n",
    "train_df['height'] = 0\n",
    "train_df.head()"
   ]
  },
  {
   "cell_type": "code",
   "execution_count": null,
   "id": "historical-receipt",
   "metadata": {},
   "outputs": [],
   "source": [
    "%time\n",
    "train_df['width']  = train_df.apply(lambda row: pydicom.dcmread(row.image_path).get('Columns'), axis =1)\n",
    "train_df['height'] = train_df.apply(lambda row: pydicom.dcmread(row.image_path).get('Rows'), axis =1)\n",
    "train_df.head()"
   ]
  },
  {
   "cell_type": "code",
   "execution_count": null,
   "id": "passive-liberia",
   "metadata": {},
   "outputs": [],
   "source": [
    "def dim_from_dicom(path):\n",
    "    ds = pydicom.dcmread(path)\n",
    "    return ds.get('Columns'), ds.get('Rows')"
   ]
  },
  {
   "cell_type": "code",
   "execution_count": null,
   "id": "controversial-given",
   "metadata": {},
   "outputs": [],
   "source": [
    "%time\n",
    "train_df['width'], train_df['height'] = zip(*train_df['image_path'].map(dim_from_dicom))\n",
    "train_df.head()"
   ]
  },
  {
   "cell_type": "code",
   "execution_count": null,
   "id": "intellectual-conference",
   "metadata": {},
   "outputs": [],
   "source": [
    "train_df['x_min'] = train_df.apply(lambda row: (row.x_min)/row.width, axis =1)\n",
    "train_df['y_min'] = train_df.apply(lambda row: (row.y_min)/row.height, axis =1)\n",
    "\n",
    "train_df['x_max'] = train_df.apply(lambda row: (row.x_max)/row.width, axis =1)\n",
    "train_df['y_max'] = train_df.apply(lambda row: (row.y_max)/row.height, axis =1)\n",
    "\n",
    "train_df['x_mid'] = train_df.apply(lambda row: (row.x_max+row.x_min)/2, axis =1)\n",
    "train_df['y_mid'] = train_df.apply(lambda row: (row.y_max+row.y_min)/2, axis =1)\n",
    "\n",
    "train_df['w'] = train_df.apply(lambda row: (row.x_max-row.x_min), axis =1)\n",
    "train_df['h'] = train_df.apply(lambda row: (row.y_max-row.y_min), axis =1)\n",
    "\n",
    "train_df['area'] = train_df['w']*train_df['h']\n",
    "train_df.head()"
   ]
  },
  {
   "cell_type": "code",
   "execution_count": null,
   "id": "favorite-tenant",
   "metadata": {},
   "outputs": [],
   "source": [
    "train_df.to_csv(new_csv_path)"
   ]
  }
 ],
 "metadata": {
  "kernelspec": {
   "display_name": "Python 3",
   "language": "python",
   "name": "python3"
  },
  "language_info": {
   "codemirror_mode": {
    "name": "ipython",
    "version": 3
   },
   "file_extension": ".py",
   "mimetype": "text/x-python",
   "name": "python",
   "nbconvert_exporter": "python",
   "pygments_lexer": "ipython3",
   "version": "3.6.12"
  }
 },
 "nbformat": 4,
 "nbformat_minor": 5
}
